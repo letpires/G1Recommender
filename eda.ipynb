{
 "cells": [
  {
   "cell_type": "markdown",
   "metadata": {},
   "source": [
    "## Importações"
   ]
  },
  {
   "cell_type": "code",
   "execution_count": null,
   "metadata": {},
   "outputs": [],
   "source": [
    "import pandas as pd\n",
    "import matplotlib.pyplot as plt\n",
    "import seaborn as sns\n",
    "import os\n",
    "import glob\n"
   ]
  },
  {
   "cell_type": "markdown",
   "metadata": {},
   "source": [
    "## Entendendo os dados"
   ]
  },
  {
   "cell_type": "markdown",
   "metadata": {},
   "source": [
    "### Arquivos de treino\n",
    "Contem dados de interações dos usuários com as notícias antes de uma data limite T. Incluem informações sobre quais notícias foram acessadas, quando, por quanto tempo, quantos cliques o usuário deu, etc."
   ]
  },
  {
   "cell_type": "code",
   "execution_count": 2,
   "metadata": {},
   "outputs": [
    {
     "data": {
      "text/html": [
       "<div>\n",
       "<style scoped>\n",
       "    .dataframe tbody tr th:only-of-type {\n",
       "        vertical-align: middle;\n",
       "    }\n",
       "\n",
       "    .dataframe tbody tr th {\n",
       "        vertical-align: top;\n",
       "    }\n",
       "\n",
       "    .dataframe thead th {\n",
       "        text-align: right;\n",
       "    }\n",
       "</style>\n",
       "<table border=\"1\" class=\"dataframe\">\n",
       "  <thead>\n",
       "    <tr style=\"text-align: right;\">\n",
       "      <th></th>\n",
       "      <th>userId</th>\n",
       "      <th>userType</th>\n",
       "      <th>historySize</th>\n",
       "      <th>history</th>\n",
       "      <th>timestampHistory</th>\n",
       "      <th>numberOfClicksHistory</th>\n",
       "      <th>timeOnPageHistory</th>\n",
       "      <th>scrollPercentageHistory</th>\n",
       "      <th>pageVisitsCountHistory</th>\n",
       "      <th>timestampHistory_new</th>\n",
       "    </tr>\n",
       "  </thead>\n",
       "  <tbody>\n",
       "    <tr>\n",
       "      <th>0</th>\n",
       "      <td>f98d1132f60d46883ce49583257104d15ce723b3bbda21...</td>\n",
       "      <td>Non-Logged</td>\n",
       "      <td>3</td>\n",
       "      <td>c8aab885-433d-4e46-8066-479f40ba7fb2, 68d2039c...</td>\n",
       "      <td>1657146417045, 1657146605778, 1657146698738</td>\n",
       "      <td>76, 38, 41</td>\n",
       "      <td>20380, 21184, 35438</td>\n",
       "      <td>50.3, 18.18, 16.46</td>\n",
       "      <td>2, 1, 1</td>\n",
       "      <td>1657146417045, 1657146605778, 1657146698738</td>\n",
       "    </tr>\n",
       "    <tr>\n",
       "      <th>1</th>\n",
       "      <td>2c1080975e257ed630e26679edbe4d5c850c65f3e09f65...</td>\n",
       "      <td>Non-Logged</td>\n",
       "      <td>60</td>\n",
       "      <td>3325b5a1-979a-4cb3-82b6-63905c9edbe8, fe856057...</td>\n",
       "      <td>1656684240278, 1656761266729, 1656761528085, 1...</td>\n",
       "      <td>7, 80, 2, 1, 7, 62, 26, 44, 4, 4, 14, 45, 13, ...</td>\n",
       "      <td>6049, 210489, 8672, 10000, 30000, 123007, 9965...</td>\n",
       "      <td>25.35, 45.66, 35.3, 28.05, 36.53, 47.57, 55.33...</td>\n",
       "      <td>1, 1, 1, 1, 1, 1, 1, 1, 1, 2, 1, 1, 1, 2, 1, 1...</td>\n",
       "      <td>1656684240278, 1656761266729, 1656761528085, 1...</td>\n",
       "    </tr>\n",
       "  </tbody>\n",
       "</table>\n",
       "</div>"
      ],
      "text/plain": [
       "                                              userId    userType  historySize  \\\n",
       "0  f98d1132f60d46883ce49583257104d15ce723b3bbda21...  Non-Logged            3   \n",
       "1  2c1080975e257ed630e26679edbe4d5c850c65f3e09f65...  Non-Logged           60   \n",
       "\n",
       "                                             history  \\\n",
       "0  c8aab885-433d-4e46-8066-479f40ba7fb2, 68d2039c...   \n",
       "1  3325b5a1-979a-4cb3-82b6-63905c9edbe8, fe856057...   \n",
       "\n",
       "                                    timestampHistory  \\\n",
       "0        1657146417045, 1657146605778, 1657146698738   \n",
       "1  1656684240278, 1656761266729, 1656761528085, 1...   \n",
       "\n",
       "                               numberOfClicksHistory  \\\n",
       "0                                         76, 38, 41   \n",
       "1  7, 80, 2, 1, 7, 62, 26, 44, 4, 4, 14, 45, 13, ...   \n",
       "\n",
       "                                   timeOnPageHistory  \\\n",
       "0                                20380, 21184, 35438   \n",
       "1  6049, 210489, 8672, 10000, 30000, 123007, 9965...   \n",
       "\n",
       "                             scrollPercentageHistory  \\\n",
       "0                                 50.3, 18.18, 16.46   \n",
       "1  25.35, 45.66, 35.3, 28.05, 36.53, 47.57, 55.33...   \n",
       "\n",
       "                              pageVisitsCountHistory  \\\n",
       "0                                            2, 1, 1   \n",
       "1  1, 1, 1, 1, 1, 1, 1, 1, 1, 2, 1, 1, 1, 2, 1, 1...   \n",
       "\n",
       "                                timestampHistory_new  \n",
       "0        1657146417045, 1657146605778, 1657146698738  \n",
       "1  1656684240278, 1656761266729, 1656761528085, 1...  "
      ]
     },
     "execution_count": 2,
     "metadata": {},
     "output_type": "execute_result"
    }
   ],
   "source": [
    "treino_parte1 = pd.read_csv('/Users/leticiapires/Desktop/G1Recommender/dados/challenge-webmedia-e-globo-2023/files/treino/treino_parte1.csv')\n",
    "treino_parte1.head(2)"
   ]
  },
  {
   "cell_type": "markdown",
   "metadata": {},
   "source": [
    "O que significa cada coluna?\n",
    "\n",
    "- `userId`: ID único do usuário.\n",
    "- `userType`: Se o usuário está logado ou é anônimo.\n",
    "- `HistorySize`: Quantidade total de notícias lidas pelo usuário.\n",
    "- `history`: Lista das notícias visitadas pelo usuário (IDs das páginas).\n",
    "- `TimestampHistory`: Momento em que cada notícia foi lida.\n",
    "- `timeOnPageHistory`: Tempo (em milissegundos) que o usuário ficou na página.\n",
    "- `numberOfClicksHistory`: Quantidade de cliques feitos na notícia.\n",
    "- `scrollPercentageHistory`: Percentual da página visualizada pelo usuário.\n",
    "- `pageVisitsCountHistory`: Quantidade de vezes que o usuário visitou a mesma notícia."
   ]
  },
  {
   "cell_type": "code",
   "execution_count": 2,
   "metadata": {},
   "outputs": [
    {
     "data": {
      "application/javascript": "\n        if (window._pyforest_update_imports_cell) { window._pyforest_update_imports_cell('import pandas as pd'); }\n    ",
      "text/plain": [
       "<IPython.core.display.Javascript object>"
      ]
     },
     "metadata": {},
     "output_type": "display_data"
    },
    {
     "data": {
      "text/html": [
       "<div>\n",
       "<style scoped>\n",
       "    .dataframe tbody tr th:only-of-type {\n",
       "        vertical-align: middle;\n",
       "    }\n",
       "\n",
       "    .dataframe tbody tr th {\n",
       "        vertical-align: top;\n",
       "    }\n",
       "\n",
       "    .dataframe thead th {\n",
       "        text-align: right;\n",
       "    }\n",
       "</style>\n",
       "<table border=\"1\" class=\"dataframe\">\n",
       "  <thead>\n",
       "    <tr style=\"text-align: right;\">\n",
       "      <th></th>\n",
       "      <th>page</th>\n",
       "      <th>url</th>\n",
       "      <th>issued</th>\n",
       "      <th>modified</th>\n",
       "      <th>title</th>\n",
       "      <th>body</th>\n",
       "      <th>caption</th>\n",
       "    </tr>\n",
       "  </thead>\n",
       "  <tbody>\n",
       "    <tr>\n",
       "      <th>0</th>\n",
       "      <td>13db0ab1-eea2-4603-84c4-f40a876c7400</td>\n",
       "      <td>http://g1.globo.com/am/amazonas/noticia/2022/0...</td>\n",
       "      <td>2022-06-18 20:37:45+00:00</td>\n",
       "      <td>2023-04-15 00:02:08+00:00</td>\n",
       "      <td>Caso Bruno e Dom: 3º suspeito tem prisão tempo...</td>\n",
       "      <td>Após audiência de custódia, a Justiça do Amazo...</td>\n",
       "      <td>Jeferson da Silva Lima foi escoltado por agent...</td>\n",
       "    </tr>\n",
       "    <tr>\n",
       "      <th>1</th>\n",
       "      <td>92907b73-5cd3-4184-8d8c-e206aed2bf1c</td>\n",
       "      <td>http://g1.globo.com/pa/santarem-regiao/noticia...</td>\n",
       "      <td>2019-06-20 17:19:52+00:00</td>\n",
       "      <td>2023-06-16 20:19:15+00:00</td>\n",
       "      <td>Linguajar dos santarenos é diferenciado e chei...</td>\n",
       "      <td>Vista aérea de Santarém\\nÁdrio Denner/ AD Prod...</td>\n",
       "      <td>As expressões santarenas não significam apenas...</td>\n",
       "    </tr>\n",
       "    <tr>\n",
       "      <th>2</th>\n",
       "      <td>61e07f64-cddf-46f2-b50c-ea0a39c22050</td>\n",
       "      <td>http://g1.globo.com/mundo/noticia/2022/07/08/e...</td>\n",
       "      <td>2022-07-08 08:55:52+00:00</td>\n",
       "      <td>2023-04-15 04:25:39+00:00</td>\n",
       "      <td>Ex-premiê Shinzo Abe morre após ser baleado no...</td>\n",
       "      <td>Novo vídeo mostra que assassino de Shinzo Abe ...</td>\n",
       "      <td>Ex-primeiro-ministro foi atingido por tiros de...</td>\n",
       "    </tr>\n",
       "    <tr>\n",
       "      <th>3</th>\n",
       "      <td>30e2e6c5-554a-48ed-a35f-6c6691c8ac9b</td>\n",
       "      <td>http://g1.globo.com/politica/noticia/2021/09/0...</td>\n",
       "      <td>2021-09-09 19:06:46+00:00</td>\n",
       "      <td>2023-06-07 17:44:54+00:00</td>\n",
       "      <td>Relator no STF, Fachin vota contra marco tempo...</td>\n",
       "      <td>Relator no STF, Fachin vota contra marco tempo...</td>\n",
       "      <td>Ministro defendeu que posse indígena é diferen...</td>\n",
       "    </tr>\n",
       "    <tr>\n",
       "      <th>4</th>\n",
       "      <td>9dff71eb-b681-40c7-ac8d-68017ac36675</td>\n",
       "      <td>http://g1.globo.com/politica/noticia/2021/09/1...</td>\n",
       "      <td>2021-09-15 19:16:13+00:00</td>\n",
       "      <td>2023-06-07 17:43:39+00:00</td>\n",
       "      <td>\\nApós 2 votos, pedido de vista suspende julga...</td>\n",
       "      <td>Após um pedido de vista (mais tempo para análi...</td>\n",
       "      <td>Pelo marco temporal, índios só podem reivindic...</td>\n",
       "    </tr>\n",
       "  </tbody>\n",
       "</table>\n",
       "</div>"
      ],
      "text/plain": [
       "                                   page  ...                                            caption\n",
       "0  13db0ab1-eea2-4603-84c4-f40a876c7400  ...  Jeferson da Silva Lima foi escoltado por agent...\n",
       "1  92907b73-5cd3-4184-8d8c-e206aed2bf1c  ...  As expressões santarenas não significam apenas...\n",
       "2  61e07f64-cddf-46f2-b50c-ea0a39c22050  ...  Ex-primeiro-ministro foi atingido por tiros de...\n",
       "3  30e2e6c5-554a-48ed-a35f-6c6691c8ac9b  ...  Ministro defendeu que posse indígena é diferen...\n",
       "4  9dff71eb-b681-40c7-ac8d-68017ac36675  ...  Pelo marco temporal, índios só podem reivindic...\n",
       "\n",
       "[5 rows x 7 columns]"
      ]
     },
     "execution_count": 2,
     "metadata": {},
     "output_type": "execute_result"
    }
   ],
   "source": [
    "itens = pd.read_csv('/Users/leticiapires/Desktop/G1Recommender/dados/challenge-webmedia-e-globo-2023/itens/itens/itens-parte1.csv')\n",
    "itens.head()"
   ]
  },
  {
   "cell_type": "markdown",
   "metadata": {},
   "source": [
    "`Itens` contêm informações sobre as notícias que aparecem no histórico dos usuários. \n",
    "\n",
    "O que significa cada coluna?\n",
    "\n",
    "- `Page`: ID da notícia, que aparece na coluna history do conjunto de treino.\n",
    "- `Url`: Link da matéria no Globoplay.\n",
    "- `Issued`: Data de publicação da notícia.\n",
    "- `Modified`: Última data em que a matéria foi modificada.\n",
    "- `Title`: Título da matéria.\n",
    "- `Body`: Texto completo da notícia.\n",
    "- `Caption`: Subtítulo da notícia.\n",
    "\n",
    "\n",
    "#### Como os dados se relacionam?\n",
    "\n",
    "Os dois conjuntos de dados estão ligados pelo ID da notícia (Page), que aparece tanto no treino (history) quanto nos itens (Page).\n"
   ]
  },
  {
   "cell_type": "code",
   "execution_count": 25,
   "metadata": {},
   "outputs": [
    {
     "data": {
      "text/html": [
       "<div>\n",
       "<style scoped>\n",
       "    .dataframe tbody tr th:only-of-type {\n",
       "        vertical-align: middle;\n",
       "    }\n",
       "\n",
       "    .dataframe tbody tr th {\n",
       "        vertical-align: top;\n",
       "    }\n",
       "\n",
       "    .dataframe thead th {\n",
       "        text-align: right;\n",
       "    }\n",
       "</style>\n",
       "<table border=\"1\" class=\"dataframe\">\n",
       "  <thead>\n",
       "    <tr style=\"text-align: right;\">\n",
       "      <th></th>\n",
       "      <th>userId</th>\n",
       "      <th>userType</th>\n",
       "      <th>history</th>\n",
       "      <th>timestampHistory</th>\n",
       "    </tr>\n",
       "  </thead>\n",
       "  <tbody>\n",
       "    <tr>\n",
       "      <th>0</th>\n",
       "      <td>e25fbee3a42d45a2914f9b061df3386b2ded2d8cc1f3d4...</td>\n",
       "      <td>Logged</td>\n",
       "      <td>['be89a7da-d9fa-49d4-9fdc-388c27a15bc8'\\n '01c...</td>\n",
       "      <td>[1660533136590 1660672113513]</td>\n",
       "    </tr>\n",
       "    <tr>\n",
       "      <th>1</th>\n",
       "      <td>d0afad7ea843d86597d822f0df1d39d31a3fea7c39fdee...</td>\n",
       "      <td>Logged</td>\n",
       "      <td>['77901133-aee7-4f7b-afc0-652231d76fe9']</td>\n",
       "      <td>[1660556860253]</td>\n",
       "    </tr>\n",
       "    <tr>\n",
       "      <th>2</th>\n",
       "      <td>755062dd39a48809880cf363b04268c3af2c003088cde0...</td>\n",
       "      <td>Logged</td>\n",
       "      <td>['857aa90f-a7ec-410d-ba82-dfa4f85d4e71']</td>\n",
       "      <td>[1660561649242]</td>\n",
       "    </tr>\n",
       "    <tr>\n",
       "      <th>3</th>\n",
       "      <td>ec1639851d99586c7f4da928deb49187303aec6e3b8d66...</td>\n",
       "      <td>Logged</td>\n",
       "      <td>['b7b90e18-7613-4ca0-a8fc-fd69addfcd85'\\n '835...</td>\n",
       "      <td>[1660533830245 1660540831707 1660542659111 166...</td>\n",
       "    </tr>\n",
       "    <tr>\n",
       "      <th>4</th>\n",
       "      <td>a120515626fe5d12b22b7d5a7c5008912cc69284aa26cc...</td>\n",
       "      <td>Logged</td>\n",
       "      <td>['9c764c3a-f9f8-4fb2-b2c4-6331eaeb3dd6'\\n 'b8e...</td>\n",
       "      <td>[1660548813953 1660572329731 1660594848200]</td>\n",
       "    </tr>\n",
       "  </tbody>\n",
       "</table>\n",
       "</div>"
      ],
      "text/plain": [
       "                                              userId  ...                                   timestampHistory\n",
       "0  e25fbee3a42d45a2914f9b061df3386b2ded2d8cc1f3d4...  ...                      [1660533136590 1660672113513]\n",
       "1  d0afad7ea843d86597d822f0df1d39d31a3fea7c39fdee...  ...                                    [1660556860253]\n",
       "2  755062dd39a48809880cf363b04268c3af2c003088cde0...  ...                                    [1660561649242]\n",
       "3  ec1639851d99586c7f4da928deb49187303aec6e3b8d66...  ...  [1660533830245 1660540831707 1660542659111 166...\n",
       "4  a120515626fe5d12b22b7d5a7c5008912cc69284aa26cc...  ...        [1660548813953 1660572329731 1660594848200]\n",
       "\n",
       "[5 rows x 4 columns]"
      ]
     },
     "execution_count": 25,
     "metadata": {},
     "output_type": "execute_result"
    }
   ],
   "source": [
    "validacao = pd.read_csv('/Users/leticiapires/Desktop/G1Recommender/dados/challenge-webmedia-e-globo-2023/validacao.csv')\n",
    "validacao.head()"
   ]
  },
  {
   "cell_type": "markdown",
   "metadata": {},
   "source": [
    "O conjunto de validação contém um período de tempo posterior ao conjunto de treino. Ou seja, ele contém os usuários que já estão no treino, mas mostra um novo conjunto de interações que ocorreram após T.\n",
    "\n",
    "Colunas do conjunto de validação:\n",
    "\n",
    "- `userId`: Identificação do usuário.\n",
    "- `userType`: Usuário logado ou anônimo.\n",
    "- `history`: Lista de notícias que o usuário visitou após T.\n",
    "\n",
    "Ou seja, temos quais notícias o usuário acessou depois de T."
   ]
  },
  {
   "cell_type": "markdown",
   "metadata": {},
   "source": [
    "## Análise exploratória"
   ]
  },
  {
   "cell_type": "code",
   "execution_count": 15,
   "metadata": {},
   "outputs": [],
   "source": [
    "treino_path = \"/Users/leticiapires/Desktop/G1Recommender/dados/challenge-webmedia-e-globo-2023/files/treino/\"\n",
    "itens_path = \"/Users/leticiapires/Desktop/G1Recommender/dados/challenge-webmedia-e-globo-2023/itens/itens\""
   ]
  },
  {
   "cell_type": "code",
   "execution_count": 16,
   "metadata": {},
   "outputs": [],
   "source": [
    "# Listar arquivos disponíveis\n",
    "treino_files = sorted(glob(os.path.join(treino_path, \"treino_parte*.csv\")))\n",
    "itens_files = sorted(glob(os.path.join(itens_path, \"itens-parte*.csv\")))"
   ]
  },
  {
   "cell_type": "code",
   "execution_count": 20,
   "metadata": {},
   "outputs": [
    {
     "data": {
      "text/html": [
       "<div>\n",
       "<style scoped>\n",
       "    .dataframe tbody tr th:only-of-type {\n",
       "        vertical-align: middle;\n",
       "    }\n",
       "\n",
       "    .dataframe tbody tr th {\n",
       "        vertical-align: top;\n",
       "    }\n",
       "\n",
       "    .dataframe thead th {\n",
       "        text-align: right;\n",
       "    }\n",
       "</style>\n",
       "<table border=\"1\" class=\"dataframe\">\n",
       "  <thead>\n",
       "    <tr style=\"text-align: right;\">\n",
       "      <th></th>\n",
       "      <th>userId</th>\n",
       "      <th>userType</th>\n",
       "      <th>historySize</th>\n",
       "      <th>history</th>\n",
       "      <th>timestampHistory</th>\n",
       "      <th>numberOfClicksHistory</th>\n",
       "      <th>timeOnPageHistory</th>\n",
       "      <th>scrollPercentageHistory</th>\n",
       "      <th>pageVisitsCountHistory</th>\n",
       "      <th>timestampHistory_new</th>\n",
       "    </tr>\n",
       "  </thead>\n",
       "  <tbody>\n",
       "    <tr>\n",
       "      <th>0</th>\n",
       "      <td>f98d1132f60d46883ce49583257104d15ce723b3bbda21...</td>\n",
       "      <td>Non-Logged</td>\n",
       "      <td>3</td>\n",
       "      <td>c8aab885-433d-4e46-8066-479f40ba7fb2, 68d2039c...</td>\n",
       "      <td>1657146417045, 1657146605778, 1657146698738</td>\n",
       "      <td>76, 38, 41</td>\n",
       "      <td>20380, 21184, 35438</td>\n",
       "      <td>50.3, 18.18, 16.46</td>\n",
       "      <td>2, 1, 1</td>\n",
       "      <td>1657146417045, 1657146605778, 1657146698738</td>\n",
       "    </tr>\n",
       "    <tr>\n",
       "      <th>1</th>\n",
       "      <td>2c1080975e257ed630e26679edbe4d5c850c65f3e09f65...</td>\n",
       "      <td>Non-Logged</td>\n",
       "      <td>60</td>\n",
       "      <td>3325b5a1-979a-4cb3-82b6-63905c9edbe8, fe856057...</td>\n",
       "      <td>1656684240278, 1656761266729, 1656761528085, 1...</td>\n",
       "      <td>7, 80, 2, 1, 7, 62, 26, 44, 4, 4, 14, 45, 13, ...</td>\n",
       "      <td>6049, 210489, 8672, 10000, 30000, 123007, 9965...</td>\n",
       "      <td>25.35, 45.66, 35.3, 28.05, 36.53, 47.57, 55.33...</td>\n",
       "      <td>1, 1, 1, 1, 1, 1, 1, 1, 1, 2, 1, 1, 1, 2, 1, 1...</td>\n",
       "      <td>1656684240278, 1656761266729, 1656761528085, 1...</td>\n",
       "    </tr>\n",
       "    <tr>\n",
       "      <th>2</th>\n",
       "      <td>0adffd7450d3b9840d8c6215f0569ad942e782fb19b805...</td>\n",
       "      <td>Logged</td>\n",
       "      <td>107</td>\n",
       "      <td>04756569-593e-4133-a95a-83d35d43dbbd, 29b6b142...</td>\n",
       "      <td>1656678946256, 1656701076495, 1656701882565, 1...</td>\n",
       "      <td>0, 0, 0, 0, 0, 44, 0, 0, 2, 1, 0, 0, 0, 44, 0,...</td>\n",
       "      <td>311274, 140000, 32515, 157018, 118689, 159243,...</td>\n",
       "      <td>67.58, 47.22, 41.52, 63.09, 51.38, 65.11, 71.9...</td>\n",
       "      <td>1, 1, 1, 1, 1, 1, 1, 1, 2, 1, 1, 1, 1, 1, 1, 1...</td>\n",
       "      <td>1656678946256, 1656701076495, 1656701882565, 1...</td>\n",
       "    </tr>\n",
       "    <tr>\n",
       "      <th>3</th>\n",
       "      <td>c1e8d644329a78ea1f994292db624c57980b2886cfbc2d...</td>\n",
       "      <td>Non-Logged</td>\n",
       "      <td>56</td>\n",
       "      <td>1f2b9c2f-a2d2-4192-b009-09065da8ec23, 04756569...</td>\n",
       "      <td>1658333312180, 1658404553818, 1658408449062, 1...</td>\n",
       "      <td>8, 0, 0, 0, 0, 0, 1, 0, 0, 1, 0, 0, 2, 0, 1, 1...</td>\n",
       "      <td>182696, 91925, 30000, 273655, 126409, 42980, 1...</td>\n",
       "      <td>58.26, 72.66, 22.57, 59.89, 40.36, 36.35, 14.7...</td>\n",
       "      <td>1, 1, 1, 1, 1, 1, 1, 1, 1, 1, 1, 1, 1, 1, 1, 1...</td>\n",
       "      <td>1658333312180, 1658404553818, 1658408449062, 1...</td>\n",
       "    </tr>\n",
       "    <tr>\n",
       "      <th>4</th>\n",
       "      <td>e777d1f31d4d955b63d60acc13df336d3903f52ab8f8f4...</td>\n",
       "      <td>Non-Logged</td>\n",
       "      <td>4</td>\n",
       "      <td>bebdeb3e-1699-43e0-a1b8-989f5a6ab679, f4b484a7...</td>\n",
       "      <td>1658766608801, 1658766608801, 1660084035094, 1...</td>\n",
       "      <td>579, 579, 7, 2</td>\n",
       "      <td>801396, 801396, 10000, 10000</td>\n",
       "      <td>78.74, 78.74, 16.71, 9.34</td>\n",
       "      <td>7, 7, 1, 1</td>\n",
       "      <td>1658766608801, 1658766608801, 1660084035094, 1...</td>\n",
       "    </tr>\n",
       "  </tbody>\n",
       "</table>\n",
       "</div>"
      ],
      "text/plain": [
       "                                              userId  ...                               timestampHistory_new\n",
       "0  f98d1132f60d46883ce49583257104d15ce723b3bbda21...  ...        1657146417045, 1657146605778, 1657146698738\n",
       "1  2c1080975e257ed630e26679edbe4d5c850c65f3e09f65...  ...  1656684240278, 1656761266729, 1656761528085, 1...\n",
       "2  0adffd7450d3b9840d8c6215f0569ad942e782fb19b805...  ...  1656678946256, 1656701076495, 1656701882565, 1...\n",
       "3  c1e8d644329a78ea1f994292db624c57980b2886cfbc2d...  ...  1658333312180, 1658404553818, 1658408449062, 1...\n",
       "4  e777d1f31d4d955b63d60acc13df336d3903f52ab8f8f4...  ...  1658766608801, 1658766608801, 1660084035094, 1...\n",
       "\n",
       "[5 rows x 10 columns]"
      ]
     },
     "execution_count": 20,
     "metadata": {},
     "output_type": "execute_result"
    }
   ],
   "source": [
    "# Carregar e concatenar os arquivos de treino\n",
    "df_treino = pd.concat([pd.read_csv(f) for f in treino_files], ignore_index=True)\n",
    "df_treino.head()"
   ]
  },
  {
   "cell_type": "code",
   "execution_count": 22,
   "metadata": {},
   "outputs": [
    {
     "data": {
      "text/html": [
       "<div>\n",
       "<style scoped>\n",
       "    .dataframe tbody tr th:only-of-type {\n",
       "        vertical-align: middle;\n",
       "    }\n",
       "\n",
       "    .dataframe tbody tr th {\n",
       "        vertical-align: top;\n",
       "    }\n",
       "\n",
       "    .dataframe thead th {\n",
       "        text-align: right;\n",
       "    }\n",
       "</style>\n",
       "<table border=\"1\" class=\"dataframe\">\n",
       "  <thead>\n",
       "    <tr style=\"text-align: right;\">\n",
       "      <th></th>\n",
       "      <th>page</th>\n",
       "      <th>url</th>\n",
       "      <th>issued</th>\n",
       "      <th>modified</th>\n",
       "      <th>title</th>\n",
       "      <th>body</th>\n",
       "      <th>caption</th>\n",
       "    </tr>\n",
       "  </thead>\n",
       "  <tbody>\n",
       "    <tr>\n",
       "      <th>0</th>\n",
       "      <td>13db0ab1-eea2-4603-84c4-f40a876c7400</td>\n",
       "      <td>http://g1.globo.com/am/amazonas/noticia/2022/0...</td>\n",
       "      <td>2022-06-18 20:37:45+00:00</td>\n",
       "      <td>2023-04-15 00:02:08+00:00</td>\n",
       "      <td>Caso Bruno e Dom: 3º suspeito tem prisão tempo...</td>\n",
       "      <td>Após audiência de custódia, a Justiça do Amazo...</td>\n",
       "      <td>Jeferson da Silva Lima foi escoltado por agent...</td>\n",
       "    </tr>\n",
       "    <tr>\n",
       "      <th>1</th>\n",
       "      <td>92907b73-5cd3-4184-8d8c-e206aed2bf1c</td>\n",
       "      <td>http://g1.globo.com/pa/santarem-regiao/noticia...</td>\n",
       "      <td>2019-06-20 17:19:52+00:00</td>\n",
       "      <td>2023-06-16 20:19:15+00:00</td>\n",
       "      <td>Linguajar dos santarenos é diferenciado e chei...</td>\n",
       "      <td>Vista aérea de Santarém\\nÁdrio Denner/ AD Prod...</td>\n",
       "      <td>As expressões santarenas não significam apenas...</td>\n",
       "    </tr>\n",
       "    <tr>\n",
       "      <th>2</th>\n",
       "      <td>61e07f64-cddf-46f2-b50c-ea0a39c22050</td>\n",
       "      <td>http://g1.globo.com/mundo/noticia/2022/07/08/e...</td>\n",
       "      <td>2022-07-08 08:55:52+00:00</td>\n",
       "      <td>2023-04-15 04:25:39+00:00</td>\n",
       "      <td>Ex-premiê Shinzo Abe morre após ser baleado no...</td>\n",
       "      <td>Novo vídeo mostra que assassino de Shinzo Abe ...</td>\n",
       "      <td>Ex-primeiro-ministro foi atingido por tiros de...</td>\n",
       "    </tr>\n",
       "    <tr>\n",
       "      <th>3</th>\n",
       "      <td>30e2e6c5-554a-48ed-a35f-6c6691c8ac9b</td>\n",
       "      <td>http://g1.globo.com/politica/noticia/2021/09/0...</td>\n",
       "      <td>2021-09-09 19:06:46+00:00</td>\n",
       "      <td>2023-06-07 17:44:54+00:00</td>\n",
       "      <td>Relator no STF, Fachin vota contra marco tempo...</td>\n",
       "      <td>Relator no STF, Fachin vota contra marco tempo...</td>\n",
       "      <td>Ministro defendeu que posse indígena é diferen...</td>\n",
       "    </tr>\n",
       "    <tr>\n",
       "      <th>4</th>\n",
       "      <td>9dff71eb-b681-40c7-ac8d-68017ac36675</td>\n",
       "      <td>http://g1.globo.com/politica/noticia/2021/09/1...</td>\n",
       "      <td>2021-09-15 19:16:13+00:00</td>\n",
       "      <td>2023-06-07 17:43:39+00:00</td>\n",
       "      <td>\\nApós 2 votos, pedido de vista suspende julga...</td>\n",
       "      <td>Após um pedido de vista (mais tempo para análi...</td>\n",
       "      <td>Pelo marco temporal, índios só podem reivindic...</td>\n",
       "    </tr>\n",
       "  </tbody>\n",
       "</table>\n",
       "</div>"
      ],
      "text/plain": [
       "                                   page  ...                                            caption\n",
       "0  13db0ab1-eea2-4603-84c4-f40a876c7400  ...  Jeferson da Silva Lima foi escoltado por agent...\n",
       "1  92907b73-5cd3-4184-8d8c-e206aed2bf1c  ...  As expressões santarenas não significam apenas...\n",
       "2  61e07f64-cddf-46f2-b50c-ea0a39c22050  ...  Ex-primeiro-ministro foi atingido por tiros de...\n",
       "3  30e2e6c5-554a-48ed-a35f-6c6691c8ac9b  ...  Ministro defendeu que posse indígena é diferen...\n",
       "4  9dff71eb-b681-40c7-ac8d-68017ac36675  ...  Pelo marco temporal, índios só podem reivindic...\n",
       "\n",
       "[5 rows x 7 columns]"
      ]
     },
     "execution_count": 22,
     "metadata": {},
     "output_type": "execute_result"
    }
   ],
   "source": [
    "# Carregar e concatenar os arquivos de itens (notícias)\n",
    "df_itens = pd.concat([pd.read_csv(f) for f in itens_files], ignore_index=True)\n",
    "df_itens.head()"
   ]
  },
  {
   "cell_type": "markdown",
   "metadata": {},
   "source": [
    "### Visão geral dos dados"
   ]
  },
  {
   "cell_type": "code",
   "execution_count": 26,
   "metadata": {},
   "outputs": [
    {
     "name": "stdout",
     "output_type": "stream",
     "text": [
      "\n",
      "Informações do conjunto de treino:\n",
      "<class 'pandas.core.frame.DataFrame'>\n",
      "RangeIndex: 577942 entries, 0 to 577941\n",
      "Data columns (total 10 columns):\n",
      " #   Column                   Non-Null Count   Dtype \n",
      "---  ------                   --------------   ----- \n",
      " 0   userId                   577942 non-null  object\n",
      " 1   userType                 577942 non-null  object\n",
      " 2   historySize              577942 non-null  int64 \n",
      " 3   history                  577942 non-null  object\n",
      " 4   timestampHistory         577942 non-null  object\n",
      " 5   numberOfClicksHistory    577942 non-null  object\n",
      " 6   timeOnPageHistory        577942 non-null  object\n",
      " 7   scrollPercentageHistory  577942 non-null  object\n",
      " 8   pageVisitsCountHistory   577942 non-null  object\n",
      " 9   timestampHistory_new     577942 non-null  object\n",
      "dtypes: int64(1), object(9)\n",
      "memory usage: 44.1+ MB\n",
      "None\n"
     ]
    }
   ],
   "source": [
    "print(\"\\nInformações do conjunto de treino:\")\n",
    "print(df_treino.info())"
   ]
  },
  {
   "cell_type": "code",
   "execution_count": 27,
   "metadata": {},
   "outputs": [
    {
     "name": "stdout",
     "output_type": "stream",
     "text": [
      "\n",
      "Valores nulos no treino:\n",
      "userId                     0\n",
      "userType                   0\n",
      "historySize                0\n",
      "history                    0\n",
      "timestampHistory           0\n",
      "numberOfClicksHistory      0\n",
      "timeOnPageHistory          0\n",
      "scrollPercentageHistory    0\n",
      "pageVisitsCountHistory     0\n",
      "timestampHistory_new       0\n",
      "dtype: int64\n"
     ]
    }
   ],
   "source": [
    "# Verificar valores nulos\n",
    "print(\"\\nValores nulos no treino:\")\n",
    "print(df_treino.isnull().sum())"
   ]
  },
  {
   "cell_type": "code",
   "execution_count": 28,
   "metadata": {},
   "outputs": [
    {
     "name": "stdout",
     "output_type": "stream",
     "text": [
      "\n",
      "Informações do conjunto de itens:\n",
      "<class 'pandas.core.frame.DataFrame'>\n",
      "RangeIndex: 255603 entries, 0 to 255602\n",
      "Data columns (total 7 columns):\n",
      " #   Column    Non-Null Count   Dtype \n",
      "---  ------    --------------   ----- \n",
      " 0   page      255603 non-null  object\n",
      " 1   url       255603 non-null  object\n",
      " 2   issued    255603 non-null  object\n",
      " 3   modified  255603 non-null  object\n",
      " 4   title     255603 non-null  object\n",
      " 5   body      255603 non-null  object\n",
      " 6   caption   255603 non-null  object\n",
      "dtypes: object(7)\n",
      "memory usage: 13.7+ MB\n",
      "None\n"
     ]
    }
   ],
   "source": [
    "print(\"\\nInformações do conjunto de itens:\")\n",
    "print(df_itens.info())"
   ]
  },
  {
   "cell_type": "code",
   "execution_count": 29,
   "metadata": {},
   "outputs": [
    {
     "name": "stdout",
     "output_type": "stream",
     "text": [
      "\n",
      "Valores nulos nos itens:\n",
      "page        0\n",
      "url         0\n",
      "issued      0\n",
      "modified    0\n",
      "title       0\n",
      "body        0\n",
      "caption     0\n",
      "dtype: int64\n"
     ]
    }
   ],
   "source": [
    "print(\"\\nValores nulos nos itens:\")\n",
    "print(df_itens.isnull().sum())"
   ]
  },
  {
   "cell_type": "code",
   "execution_count": 30,
   "metadata": {},
   "outputs": [
    {
     "name": "stdout",
     "output_type": "stream",
     "text": [
      "\n",
      "Informações do conjunto de validação:\n",
      "<class 'pandas.core.frame.DataFrame'>\n",
      "RangeIndex: 112184 entries, 0 to 112183\n",
      "Data columns (total 4 columns):\n",
      " #   Column            Non-Null Count   Dtype \n",
      "---  ------            --------------   ----- \n",
      " 0   userId            112184 non-null  object\n",
      " 1   userType          112184 non-null  object\n",
      " 2   history           112184 non-null  object\n",
      " 3   timestampHistory  112184 non-null  object\n",
      "dtypes: object(4)\n",
      "memory usage: 3.4+ MB\n",
      "None\n"
     ]
    }
   ],
   "source": [
    "print(\"\\nInformações do conjunto de validação:\")\n",
    "print(validacao.info())"
   ]
  },
  {
   "cell_type": "code",
   "execution_count": 31,
   "metadata": {},
   "outputs": [
    {
     "name": "stdout",
     "output_type": "stream",
     "text": [
      "\n",
      "Valores nulos na validação:\n",
      "userId              0\n",
      "userType            0\n",
      "history             0\n",
      "timestampHistory    0\n",
      "dtype: int64\n"
     ]
    }
   ],
   "source": [
    "print(\"\\nValores nulos na validação:\")\n",
    "print(validacao.isnull().sum())"
   ]
  },
  {
   "cell_type": "code",
   "execution_count": 33,
   "metadata": {},
   "outputs": [
    {
     "data": {
      "image/png": "[encoded data removed]",
      "text/plain": [
       "<Figure size 1000x500 with 1 Axes>"
      ]
     },
     "metadata": {},
     "output_type": "display_data"
    }
   ],
   "source": [
    "plt.figure(figsize=(10, 5))\n",
    "sns.histplot(df_treino[\"historySize\"], bins=50, kde=True)\n",
    "plt.title(\"Distribuição do número de notícias lidas pelos usuários\")\n",
    "plt.xlabel(\"Número de notícias lidas\")\n",
    "plt.ylabel(\"Frequência\")\n",
    "plt.show()"
   ]
  },
  {
   "cell_type": "code",
   "execution_count": 34,
   "metadata": {},
   "outputs": [
    {
     "data": {
      "text/plain": [
       "count    577942.000000\n",
       "mean         14.056689\n",
       "std          46.037793\n",
       "min           1.000000\n",
       "25%           1.000000\n",
       "50%           2.000000\n",
       "75%           6.000000\n",
       "max        7004.000000\n",
       "Name: historySize, dtype: float64"
      ]
     },
     "execution_count": 34,
     "metadata": {},
     "output_type": "execute_result"
    }
   ],
   "source": [
    "df_treino[\"historySize\"].describe()"
   ]
  },
  {
   "cell_type": "code",
   "execution_count": 35,
   "metadata": {},
   "outputs": [
    {
     "data": {
      "image/png": "[encoded data removed]",
      "text/plain": [
       "<Figure size 600x400 with 1 Axes>"
      ]
     },
     "metadata": {},
     "output_type": "display_data"
    }
   ],
   "source": [
    "# --- 3. USUÁRIOS LOGADOS VS. ANÔNIMOS ---\n",
    "plt.figure(figsize=(6, 4))\n",
    "sns.countplot(data=df_treino, x=\"userType\")\n",
    "plt.title(\"Distribuição de Usuários Logados vs. Anônimos\")\n",
    "plt.xlabel(\"Tipo de Usuário\")\n",
    "plt.ylabel(\"Contagem\")\n",
    "plt.show()"
   ]
  },
  {
   "cell_type": "markdown",
   "metadata": {},
   "source": [
    "### Analisar coluna de timestamp\n",
    "\n",
    "Tem uma lista de timestamps, isso representa as datas que um uma pessoa visitou a mesma noticia?"
   ]
  },
  {
   "cell_type": "markdown",
   "metadata": {},
   "source": [
    "# Juntando tabelas"
   ]
  },
  {
   "cell_type": "code",
   "execution_count": 7,
   "metadata": {},
   "outputs": [],
   "source": [
    "\n",
    "# Listar e carregar os arquivos de treino\n",
    "treino_files = glob.glob('/Users/leticiapires/Desktop/G1Recommender/dados/challenge-webmedia-e-globo-2023/files/treino/treino_parte*.csv')\n",
    "df_treino = pd.concat([pd.read_csv(f) for f in treino_files], ignore_index=True)"
   ]
  },
  {
   "cell_type": "code",
   "execution_count": 8,
   "metadata": {},
   "outputs": [
    {
     "name": "stdout",
     "output_type": "stream",
     "text": [
      "<class 'pandas.core.frame.DataFrame'>\n",
      "RangeIndex: 577942 entries, 0 to 577941\n",
      "Data columns (total 10 columns):\n",
      " #   Column                   Non-Null Count   Dtype \n",
      "---  ------                   --------------   ----- \n",
      " 0   userId                   577942 non-null  object\n",
      " 1   userType                 577942 non-null  object\n",
      " 2   historySize              577942 non-null  int64 \n",
      " 3   history                  577942 non-null  object\n",
      " 4   timestampHistory         577942 non-null  object\n",
      " 5   numberOfClicksHistory    577942 non-null  object\n",
      " 6   timeOnPageHistory        577942 non-null  object\n",
      " 7   scrollPercentageHistory  577942 non-null  object\n",
      " 8   pageVisitsCountHistory   577942 non-null  object\n",
      " 9   timestampHistory_new     577942 non-null  object\n",
      "dtypes: int64(1), object(9)\n",
      "memory usage: 44.1+ MB\n"
     ]
    }
   ],
   "source": [
    "df_treino.info()"
   ]
  },
  {
   "cell_type": "code",
   "execution_count": 9,
   "metadata": {},
   "outputs": [
    {
     "data": {
      "text/html": [
       "<div>\n",
       "<style scoped>\n",
       "    .dataframe tbody tr th:only-of-type {\n",
       "        vertical-align: middle;\n",
       "    }\n",
       "\n",
       "    .dataframe tbody tr th {\n",
       "        vertical-align: top;\n",
       "    }\n",
       "\n",
       "    .dataframe thead th {\n",
       "        text-align: right;\n",
       "    }\n",
       "</style>\n",
       "<table border=\"1\" class=\"dataframe\">\n",
       "  <thead>\n",
       "    <tr style=\"text-align: right;\">\n",
       "      <th></th>\n",
       "      <th>userId</th>\n",
       "      <th>userType</th>\n",
       "      <th>historySize</th>\n",
       "      <th>history</th>\n",
       "      <th>timestampHistory</th>\n",
       "      <th>numberOfClicksHistory</th>\n",
       "      <th>timeOnPageHistory</th>\n",
       "      <th>scrollPercentageHistory</th>\n",
       "      <th>pageVisitsCountHistory</th>\n",
       "      <th>timestampHistory_new</th>\n",
       "    </tr>\n",
       "  </thead>\n",
       "  <tbody>\n",
       "    <tr>\n",
       "      <th>0</th>\n",
       "      <td>fbb963d61eb8149e7f43b1bd905457ba5e106a830ddc27...</td>\n",
       "      <td>Non-Logged</td>\n",
       "      <td>2</td>\n",
       "      <td>80aa7bb2-adce-4a55-9711-912c407927a1, d9e5f15d...</td>\n",
       "      <td>1657908085200, 1659634203762</td>\n",
       "      <td>0, 0</td>\n",
       "      <td>71998, 115232</td>\n",
       "      <td>81.58, 73.36</td>\n",
       "      <td>1, 1</td>\n",
       "      <td>1657908085200, 1659634203762</td>\n",
       "    </tr>\n",
       "    <tr>\n",
       "      <th>1</th>\n",
       "      <td>17f1083e6079b0f28f7820a6803583d1c1b405c0718b11...</td>\n",
       "      <td>Non-Logged</td>\n",
       "      <td>2</td>\n",
       "      <td>19ba89fc-1e06-4c5d-9c57-4a3088dc0511, e273dba4...</td>\n",
       "      <td>1657111508570, 1657481309920</td>\n",
       "      <td>68, 12</td>\n",
       "      <td>131495, 43733</td>\n",
       "      <td>51.74, 35.49</td>\n",
       "      <td>1, 1</td>\n",
       "      <td>1657111508570, 1657481309920</td>\n",
       "    </tr>\n",
       "    <tr>\n",
       "      <th>2</th>\n",
       "      <td>528a8d7a2af73101da8d6709c1ec875b449a5a58749a99...</td>\n",
       "      <td>Non-Logged</td>\n",
       "      <td>2</td>\n",
       "      <td>59a61a8a-cc52-453f-b1cd-2bd019e9d574, a0562805...</td>\n",
       "      <td>1657823890328, 1660141444328</td>\n",
       "      <td>55, 9</td>\n",
       "      <td>159042, 10336</td>\n",
       "      <td>62.19, 48.28</td>\n",
       "      <td>1, 1</td>\n",
       "      <td>1657823890328, 1660141444328</td>\n",
       "    </tr>\n",
       "    <tr>\n",
       "      <th>3</th>\n",
       "      <td>2dd18b58a634a4e77181a202cf152df6169dfb3e4230ef...</td>\n",
       "      <td>Non-Logged</td>\n",
       "      <td>2</td>\n",
       "      <td>233f8238-2ce0-470f-a9d5-0e0ac530382a, 037155f4...</td>\n",
       "      <td>1656963373076, 1657091888917</td>\n",
       "      <td>0, 0</td>\n",
       "      <td>193579, 20519</td>\n",
       "      <td>31.03, 31.9</td>\n",
       "      <td>1, 1</td>\n",
       "      <td>1656963373076, 1657091888917</td>\n",
       "    </tr>\n",
       "    <tr>\n",
       "      <th>4</th>\n",
       "      <td>97e1439d485b0630e12818d3df84ff67d08475ef6ebeb0...</td>\n",
       "      <td>Logged</td>\n",
       "      <td>2</td>\n",
       "      <td>385044ad-3876-4188-83fa-f560435c1a9c, 2f754502...</td>\n",
       "      <td>1657618607633, 1659536839832</td>\n",
       "      <td>57, 38</td>\n",
       "      <td>220000, 130000</td>\n",
       "      <td>52.65, 53.37</td>\n",
       "      <td>1, 1</td>\n",
       "      <td>1657618607633, 1659536839832</td>\n",
       "    </tr>\n",
       "  </tbody>\n",
       "</table>\n",
       "</div>"
      ],
      "text/plain": [
       "                                              userId    userType  historySize  \\\n",
       "0  fbb963d61eb8149e7f43b1bd905457ba5e106a830ddc27...  Non-Logged            2   \n",
       "1  17f1083e6079b0f28f7820a6803583d1c1b405c0718b11...  Non-Logged            2   \n",
       "2  528a8d7a2af73101da8d6709c1ec875b449a5a58749a99...  Non-Logged            2   \n",
       "3  2dd18b58a634a4e77181a202cf152df6169dfb3e4230ef...  Non-Logged            2   \n",
       "4  97e1439d485b0630e12818d3df84ff67d08475ef6ebeb0...      Logged            2   \n",
       "\n",
       "                                             history  \\\n",
       "0  80aa7bb2-adce-4a55-9711-912c407927a1, d9e5f15d...   \n",
       "1  19ba89fc-1e06-4c5d-9c57-4a3088dc0511, e273dba4...   \n",
       "2  59a61a8a-cc52-453f-b1cd-2bd019e9d574, a0562805...   \n",
       "3  233f8238-2ce0-470f-a9d5-0e0ac530382a, 037155f4...   \n",
       "4  385044ad-3876-4188-83fa-f560435c1a9c, 2f754502...   \n",
       "\n",
       "               timestampHistory numberOfClicksHistory timeOnPageHistory  \\\n",
       "0  1657908085200, 1659634203762                  0, 0     71998, 115232   \n",
       "1  1657111508570, 1657481309920                68, 12     131495, 43733   \n",
       "2  1657823890328, 1660141444328                 55, 9     159042, 10336   \n",
       "3  1656963373076, 1657091888917                  0, 0     193579, 20519   \n",
       "4  1657618607633, 1659536839832                57, 38    220000, 130000   \n",
       "\n",
       "  scrollPercentageHistory pageVisitsCountHistory          timestampHistory_new  \n",
       "0            81.58, 73.36                   1, 1  1657908085200, 1659634203762  \n",
       "1            51.74, 35.49                   1, 1  1657111508570, 1657481309920  \n",
       "2            62.19, 48.28                   1, 1  1657823890328, 1660141444328  \n",
       "3             31.03, 31.9                   1, 1  1656963373076, 1657091888917  \n",
       "4            52.65, 53.37                   1, 1  1657618607633, 1659536839832  "
      ]
     },
     "execution_count": 9,
     "metadata": {},
     "output_type": "execute_result"
    }
   ],
   "source": [
    "df_treino.head()"
   ]
  },
  {
   "cell_type": "code",
   "execution_count": null,
   "metadata": {},
   "outputs": [],
   "source": [
    "# Explodir colunas que contêm listas\n",
    "df_treino['history'] = df_treino['history'].apply(eval)\n",
    "df_treino = df_treino.explode('history')\n",
    "df_treino['numberOfClicksHistory'] = df_treino['numberOfClicksHistory'].apply(eval)\n",
    "df_treino = df_treino.explode('numberOfClicksHistory')\n",
    "df_treino['timeOnPageHistory'] = df_treino['timeOnPageHistory'].apply(eval)\n",
    "df_treino = df_treino.explode('timeOnPageHistory')\n",
    "df_treino['scrollPercentageHistory'] = df_treino['scrollPercentageHistory'].apply(eval)\n",
    "df_treino = df_treino.explode('scrollPercentageHistory')\n",
    "df_treino['pageVisitsCountHistory'] = df_treino['pageVisitsCountHistory'].apply(eval)\n",
    "df_treino = df_treino.explode('pageVisitsCountHistory')"
   ]
  }
 ],
 "metadata": {
  "kernelspec": {
   "display_name": "Python 3",
   "language": "python",
   "name": "python3"
  },
  "language_info": {
   "codemirror_mode": {
    "name": "ipython",
    "version": 3
   },
   "file_extension": ".py",
   "mimetype": "text/x-python",
   "name": "python",
   "nbconvert_exporter": "python",
   "pygments_lexer": "ipython3",
   "version": "3.12.4"
  }
 },
 "nbformat": 4,
 "nbformat_minor": 2
}
